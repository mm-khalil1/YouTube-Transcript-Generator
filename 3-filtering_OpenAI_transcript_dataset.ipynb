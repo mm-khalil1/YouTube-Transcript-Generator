{
  "cells": [
    {
      "cell_type": "markdown",
      "metadata": {},
      "source": [
        "<h2>Loading OpenAI Transcripts and Storing in Data Frame</h2>"
      ]
    },
    {
      "cell_type": "code",
      "execution_count": 7,
      "metadata": {},
      "outputs": [
        {
          "data": {
            "text/html": [
              "<div>\n",
              "<style scoped>\n",
              "    .dataframe tbody tr th:only-of-type {\n",
              "        vertical-align: middle;\n",
              "    }\n",
              "\n",
              "    .dataframe tbody tr th {\n",
              "        vertical-align: top;\n",
              "    }\n",
              "\n",
              "    .dataframe thead th {\n",
              "        text-align: right;\n",
              "    }\n",
              "</style>\n",
              "<table border=\"1\" class=\"dataframe\">\n",
              "  <thead>\n",
              "    <tr style=\"text-align: right;\">\n",
              "      <th></th>\n",
              "      <th>Number</th>\n",
              "      <th>URL</th>\n",
              "      <th>Video Title</th>\n",
              "      <th>Video ID</th>\n",
              "      <th>Date Published</th>\n",
              "      <th>Duration</th>\n",
              "      <th>Duration (sec)</th>\n",
              "      <th>Topic</th>\n",
              "      <th>Transcript</th>\n",
              "      <th>Description</th>\n",
              "    </tr>\n",
              "  </thead>\n",
              "  <tbody>\n",
              "    <tr>\n",
              "      <th>0</th>\n",
              "      <td>1</td>\n",
              "      <td>https://www.youtube.com/watch?v=HnkVcClkw2w</td>\n",
              "      <td>Nocturnal Enuresis (Bedwetting)</td>\n",
              "      <td>HnkVcClkw2w</td>\n",
              "      <td>08-12-2017</td>\n",
              "      <td>19:46</td>\n",
              "      <td>1186</td>\n",
              "      <td>Nocturnal Enuresis</td>\n",
              "      <td>Hello, my name is Usama Naga. I will discuss i...</td>\n",
              "      <td>Clinical approach to a child with Enuresis\\n\\n...</td>\n",
              "    </tr>\n",
              "    <tr>\n",
              "      <th>1</th>\n",
              "      <td>2</td>\n",
              "      <td>https://www.youtube.com/watch?v=OWtlKJbg_Pc</td>\n",
              "      <td>Nocturnal Enuresis</td>\n",
              "      <td>OWtlKJbg_Pc</td>\n",
              "      <td>13-05-2015</td>\n",
              "      <td>8:16</td>\n",
              "      <td>496</td>\n",
              "      <td>Nocturnal Enuresis</td>\n",
              "      <td>Nocturnal Enuresis. And this is essentially de...</td>\n",
              "      <td>Nocturnal Enuresis\\nInstructional Tutorial Vid...</td>\n",
              "    </tr>\n",
              "    <tr>\n",
              "      <th>2</th>\n",
              "      <td>3</td>\n",
              "      <td>https://www.youtube.com/watch?v=95T3ABnnhOs</td>\n",
              "      <td>Nocturnal Enuresis: BedWetting, What to Know</td>\n",
              "      <td>95T3ABnnhOs</td>\n",
              "      <td>08-03-2010</td>\n",
              "      <td>4:58</td>\n",
              "      <td>298</td>\n",
              "      <td>Nocturnal Enuresis</td>\n",
              "      <td>Even after toilet training, it's not uncommon ...</td>\n",
              "      <td>“Nocturnal Enuresis” may sound like a serious ...</td>\n",
              "    </tr>\n",
              "  </tbody>\n",
              "</table>\n",
              "</div>"
            ],
            "text/plain": [
              "   Number                                          URL  \\\n",
              "0       1  https://www.youtube.com/watch?v=HnkVcClkw2w   \n",
              "1       2  https://www.youtube.com/watch?v=OWtlKJbg_Pc   \n",
              "2       3  https://www.youtube.com/watch?v=95T3ABnnhOs   \n",
              "\n",
              "                                    Video Title     Video ID Date Published  \\\n",
              "0               Nocturnal Enuresis (Bedwetting)  HnkVcClkw2w     08-12-2017   \n",
              "1                            Nocturnal Enuresis  OWtlKJbg_Pc     13-05-2015   \n",
              "2  Nocturnal Enuresis: BedWetting, What to Know  95T3ABnnhOs     08-03-2010   \n",
              "\n",
              "  Duration  Duration (sec)               Topic  \\\n",
              "0    19:46            1186  Nocturnal Enuresis   \n",
              "1     8:16             496  Nocturnal Enuresis   \n",
              "2     4:58             298  Nocturnal Enuresis   \n",
              "\n",
              "                                          Transcript  \\\n",
              "0  Hello, my name is Usama Naga. I will discuss i...   \n",
              "1  Nocturnal Enuresis. And this is essentially de...   \n",
              "2  Even after toilet training, it's not uncommon ...   \n",
              "\n",
              "                                         Description  \n",
              "0  Clinical approach to a child with Enuresis\\n\\n...  \n",
              "1  Nocturnal Enuresis\\nInstructional Tutorial Vid...  \n",
              "2  “Nocturnal Enuresis” may sound like a serious ...  "
            ]
          },
          "execution_count": 7,
          "metadata": {},
          "output_type": "execute_result"
        }
      ],
      "source": [
        "# get transcripts from openAI_transcript_with_id folder, \n",
        "# store it in dataFrame, and save it to CSV\n",
        "import os\n",
        "import pandas as pd\n",
        "\n",
        "def get_list_of_files(folder_path='.'):\n",
        "    \"\"\"Get a list of files in a folder.\"\"\"\n",
        "    return os.listdir(folder_path)\n",
        "\n",
        "def get_file_extension(file_name):\n",
        "    \"\"\"Get the file extension of a file.\"\"\"\n",
        "    return os.path.splitext(file_name)[1]\n",
        "\n",
        "def read_file_content(file_path):\n",
        "    \"\"\"Read the content of a file.\"\"\"\n",
        "    with open(file_path, 'r', encoding='utf-8') as file:\n",
        "        return file.read()\n",
        "\n",
        "excel_file = '../../../Videos_and_DISCERN_data/videos_info_and_scores.xlsx'\n",
        "videos_info_file = '../videos_info.csv'\n",
        "\n",
        "topics_df = pd.read_excel(excel_file, usecols=['Video ID', 'Topic'], encoding='utf-8')\n",
        "\n",
        "df_openAI_transcipts = pd.read_csv(videos_info_file, encoding='utf-8')\n",
        "df_openAI_transcipts.index += 1\n",
        "\n",
        "# Merge df_openAI_transcipts with topics_df based on 'Video ID' to add 'Topic' information\n",
        "df_openAI_transcipts = df_openAI_transcipts.merge(topics_df[['Video ID', 'Topic']], on='Video ID', how='left')\n",
        "\n",
        "# Initialize 'Transcript' and 'Description' columns with None\n",
        "df_openAI_transcipts['Transcript'] = None\n",
        "df_openAI_transcipts['Description'] = None\n",
        "\n",
        "# Reorder columns such that 'Topic' appears before 'Transcript'\n",
        "new_columns = ['Topic', 'Transcript', 'Description']\n",
        "existing_columns = [col for col in df_openAI_transcipts.columns if col not in new_columns] \n",
        "df_openAI_transcipts = df_openAI_transcipts[existing_columns + new_columns]\n",
        "\n",
        "folder_path = './corrected'\n",
        "files_in_folder = get_list_of_files(folder_path)\n",
        "\n",
        "for video_id in df_openAI_transcipts['Video ID'].values:\n",
        "    video_files = [file for file in files_in_folder if video_id in file]\n",
        "    \n",
        "    if video_files is None:\n",
        "        print(\"No files were found for Video ID:\", video_id)\n",
        "    \n",
        "    else:\n",
        "        video_idx = df_openAI_transcipts.loc[df_openAI_transcipts['Video ID'] == video_id].index[0]\n",
        "        for video_file in video_files:\n",
        "            file_content = read_file_content(os.path.join(folder_path, video_file))\n",
        "            file_extension = get_file_extension(video_file)\n",
        "            if file_extension == '.txt':\n",
        "                df_openAI_transcipts.loc[video_idx, 'Transcript'] = file_content\n",
        "            elif file_extension == '.description':\n",
        "                df_openAI_transcipts.loc[video_idx, 'Description'] = file_content\n",
        "\n",
        "df_openAI_transcipts.head(3)\n"
      ]
    },
    {
      "cell_type": "code",
      "execution_count": null,
      "metadata": {},
      "outputs": [],
      "source": [
        "df_openAI_transcipts.to_csv(\"videos_info_with_OpenAI_transcripts.csv\", index=False)"
      ]
    },
    {
      "cell_type": "markdown",
      "metadata": {},
      "source": [
        "#### Check for duplicated Video IDs"
      ]
    },
    {
      "cell_type": "code",
      "execution_count": 8,
      "metadata": {},
      "outputs": [
        {
          "name": "stdout",
          "output_type": "stream",
          "text": [
            "Indices of rows with duplicated 'Video ID' values in df: []\n",
            "Count:  0\n"
          ]
        }
      ],
      "source": [
        "# Indices of videos with duplicated Vidoe ID\n",
        "\n",
        "mask = df_openAI_transcipts.duplicated(subset=['Video ID'], keep=False)\n",
        "\n",
        "# Filter DataFrame to include only rows with duplicate 'Video ID' values\n",
        "indices_equal_video_id = df_openAI_transcipts[mask].index.tolist()\n",
        "\n",
        "print(\"Indices of rows with duplicated 'Video ID' values in df:\", indices_equal_video_id)\n",
        "print(\"Count: \", len(indices_equal_video_id))\n"
      ]
    },
    {
      "cell_type": "markdown",
      "metadata": {},
      "source": [
        "<h2>Getting IDs of Unpleasant Videos</h2>"
      ]
    },
    {
      "cell_type": "markdown",
      "metadata": {},
      "source": [
        "#### Non-Audible videos"
      ]
    },
    {
      "cell_type": "code",
      "execution_count": 11,
      "metadata": {},
      "outputs": [
        {
          "name": "stdout",
          "output_type": "stream",
          "text": [
            "no_speech_ids:  ['U7Ulc4_OI5Q', 'l0LxEeEJDZU', 'WxD_o4kYYII', '0XCsN7GvZEo', 'MQhpmdfcJoY', 'aaRpk5MxRt4', 'cdToNKruJV4', '8u-eqWxvCJA', 'ACtM5trHH5Q', 'mhSszRIz2Nk', 'ikSMIl1_TQM', 'jGpkru3UU1k', '3AN_8XzN-KU', 'cZJopUlzBeA', 'Hh5gcqZHhgg', '4HdZwm0zmn0', '2gYVWv9Zhxk', 'LAf_QFmTPkw', 'fNouKvGCqIM', 'raCnH6BPdKM', 'Zw88nYSAT_M', 'wGmh5LZWmq0', '8CgYrgVc0C4', 'eJFLwYZO7iE', '_X_XCBcY17A', 'vqXQ_coJy4I', 'P7372tMFOJg', 'v9FMaozTgTM', 'RE76s2oXFE0', 'ohJZw4IWk_0', 'LeKy4SipyMI', 'FgBhFVyTyXE', 'aCtE-Va_6NI', '9pBCNir7jfw', 'Qp5pAixKKhs', 'NEEjA13t5SM', '6iNYB4bhlVw', 'Fu2ugbb3wnQ', '4qy_aEy_Qdw', 'vWneXOZai68', 'pCa8jOQJn-Y', 'vokDVp5uyu4', 'Q6_0_CWcupM', 'W0pLY4fSwb4', 'QvG8oK4RJD0', 'wRXnzhbhpHU', 'glBmSQRxaIg', 'KO6535-Qax8', 'wjWnV4broEk', 'glBmSQRxaIg', 'UzpcPeoPnW0', '9Pd46JhQRCk', '9XMyL8YZ9jU', 'iE0_0Ponqok', 'ElHuyQefPeI', 'GtwtGeHH6bE', 'c2tyic4JHBU', 'au_jIGyPSnE', '8HC0p9p1tLo', 'bodiJCJq5wk', 'fOUX-iFzfo4', 's8WTgH7Svjk', 'EmE7zlF5dWQ', 'ftcaXVSVpVY', 'ggjTeJiqdn0', '-q4jZ-_j6Ag', 'a1DwUL091eI', 'xIdih25tfu0', 'B5eUjXaBsr8', 'xAg2C9EY-Qs', 'KVqZXoOnaeU', 'rybJDxGT0a0', 'XCMs2vyxbvo', 'kowVW2QOWr0', '5GrGVfcDnXk', 'i9vTDi3Z8HU', 'Dp1n_n9OLWI', 'X35iTySMV7I', 'zojoRNBXNsk', 'X35iTySMV7I']\n",
            "Count:  80\n"
          ]
        }
      ],
      "source": [
        "# Getting IDs of videos without speech (music only)\n",
        "no_speech_ids = \"\"\"U7Ulc4_OI5Q\n",
        "l0LxEeEJDZU\n",
        "WxD_o4kYYII\n",
        "0XCsN7GvZEo\n",
        "MQhpmdfcJoY\n",
        "aaRpk5MxRt4\n",
        "cdToNKruJV4\n",
        "8u-eqWxvCJA\n",
        "ACtM5trHH5Q\n",
        "mhSszRIz2Nk\n",
        "ikSMIl1_TQM\n",
        "jGpkru3UU1k\n",
        "3AN_8XzN-KU\n",
        "cZJopUlzBeA\n",
        "Hh5gcqZHhgg\n",
        "4HdZwm0zmn0\n",
        "2gYVWv9Zhxk\n",
        "LAf_QFmTPkw\n",
        "fNouKvGCqIM\n",
        "raCnH6BPdKM\n",
        "Zw88nYSAT_M\n",
        "wGmh5LZWmq0\n",
        "8CgYrgVc0C4\n",
        "eJFLwYZO7iE\n",
        "_X_XCBcY17A\n",
        "vqXQ_coJy4I\n",
        "P7372tMFOJg\n",
        "v9FMaozTgTM\n",
        "RE76s2oXFE0\n",
        "ohJZw4IWk_0\n",
        "LeKy4SipyMI\n",
        "FgBhFVyTyXE\n",
        "aCtE-Va_6NI\n",
        "9pBCNir7jfw\n",
        "Qp5pAixKKhs\n",
        "NEEjA13t5SM\n",
        "6iNYB4bhlVw\n",
        "Fu2ugbb3wnQ\n",
        "4qy_aEy_Qdw\n",
        "vWneXOZai68\n",
        "pCa8jOQJn-Y\n",
        "vokDVp5uyu4\n",
        "Q6_0_CWcupM\n",
        "W0pLY4fSwb4\n",
        "QvG8oK4RJD0\n",
        "wRXnzhbhpHU\n",
        "glBmSQRxaIg\n",
        "KO6535-Qax8\n",
        "wjWnV4broEk\n",
        "glBmSQRxaIg\n",
        "UzpcPeoPnW0\n",
        "9Pd46JhQRCk\n",
        "9XMyL8YZ9jU\n",
        "iE0_0Ponqok\n",
        "ElHuyQefPeI\n",
        "GtwtGeHH6bE\n",
        "c2tyic4JHBU\n",
        "au_jIGyPSnE\n",
        "8HC0p9p1tLo\n",
        "bodiJCJq5wk\n",
        "fOUX-iFzfo4\n",
        "s8WTgH7Svjk\n",
        "EmE7zlF5dWQ\n",
        "ftcaXVSVpVY\n",
        "ggjTeJiqdn0\n",
        "-q4jZ-_j6Ag\n",
        "a1DwUL091eI\n",
        "xIdih25tfu0\n",
        "B5eUjXaBsr8\n",
        "xAg2C9EY-Qs\n",
        "KVqZXoOnaeU\n",
        "rybJDxGT0a0\n",
        "XCMs2vyxbvo\n",
        "kowVW2QOWr0\n",
        "5GrGVfcDnXk\n",
        "i9vTDi3Z8HU\n",
        "Dp1n_n9OLWI\n",
        "X35iTySMV7I\n",
        "zojoRNBXNsk\n",
        "X35iTySMV7I\n",
        "\"\"\"\n",
        "no_speech_ids= no_speech_ids.strip().split('\\n')\n",
        "\n",
        "print(\"no_speech_ids: \", no_speech_ids)\n",
        "print(\"Count: \", len(no_speech_ids))"
      ]
    },
    {
      "cell_type": "code",
      "execution_count": 12,
      "metadata": {},
      "outputs": [
        {
          "name": "stdout",
          "output_type": "stream",
          "text": [
            "None_videos_ids:  ['U7Ulc4_OI5Q', 'l0LxEeEJDZU', '-Ct0iWSEkdc', 'WxD_o4kYYII', '0XCsN7GvZEo', '73cM2Rh0RLk', 'MQhpmdfcJoY', 'aaRpk5MxRt4', 'N5KpDWVT4e0', 'cdToNKruJV4', '8u-eqWxvCJA', 'iZOUAP7BiAg', 'KVqZXoOnaeU', 'OpsJghXtNHo', 'mhSszRIz2Nk', 'dy9ZqVuP9V8', 'ikSMIl1_TQM', 'Jv1lG417LKg', '6VkBDpFpvI8', 'jGpkru3UU1k', '3AN_8XzN-KU', 'cZJopUlzBeA', 'aZmbUyKEfr4', 'd2vW_CHWqo4', 'Hh5gcqZHhgg', '4HdZwm0zmn0', '2gYVWv9Zhxk', 'LAf_QFmTPkw', 'fNouKvGCqIM', 'raCnH6BPdKM', 'Zw88nYSAT_M', 'wGmh5LZWmq0', '8CgYrgVc0C4', 'eJFLwYZO7iE', '_X_XCBcY17A', 'vqXQ_coJy4I', 'P7372tMFOJg', 'v9FMaozTgTM', 'RE76s2oXFE0', 'ohJZw4IWk_0', 'LeKy4SipyMI', 'FgBhFVyTyXE', 'aCtE-Va_6NI', '9pBCNir7jfw', 'Qp5pAixKKhs', 'NEEjA13t5SM', '6iNYB4bhlVw', 'Fu2ugbb3wnQ', '4qy_aEy_Qdw', 'vWneXOZai68', 'pCa8jOQJn-Y', 'vokDVp5uyu4', 'Q6_0_CWcupM', 'W0pLY4fSwb4', 'QvG8oK4RJD0', 'wRXnzhbhpHU', 'glBmSQRxaIg', 'KO6535-Qax8', 'wjWnV4broEk', 'UzpcPeoPnW0', '9Pd46JhQRCk', '9XMyL8YZ9jU', 'iE0_0Ponqok', 'ElHuyQefPeI', 'GtwtGeHH6bE', 'c2tyic4JHBU', 'au_jIGyPSnE', '8HC0p9p1tLo', 'bodiJCJq5wk', 'fOUX-iFzfo4', 's8WTgH7Svjk', 'EmE7zlF5dWQ', 'Oiar5UM1TwE', 'ftcaXVSVpVY', 'ggjTeJiqdn0', '-q4jZ-_j6Ag', 'a1DwUL091eI', 'USxPGAn1RLs', 'xIdih25tfu0', 'B5eUjXaBsr8', 'xAg2C9EY-Qs', '6Ee8BguoFmI', 'vMVrHIPHi6M', 'rybJDxGT0a0', 'yAyZEOE4I2M', 'nLDs5tESOFc', 'XCMs2vyxbvo', 'kowVW2QOWr0', '5GrGVfcDnXk', 'i9vTDi3Z8HU', 'Dp1n_n9OLWI', 'X35iTySMV7I', 'wJmCzupMHjM', 'n1VTXWqLcbs', 'JrfHKVlpb1A', 'hQ0unKzDWiI', 'TK2hKjvBVmA', 'En6rWhSfAY0']\n",
            "Count:  98\n"
          ]
        }
      ],
      "source": [
        "# Detect if No transcript (either no_speech or nonenglish)\n",
        "\n",
        "None_videos_ids = []\n",
        "for idx, row in df_openAI_transcipts.iterrows():\n",
        "    if row['Transcript'] is None:\n",
        "        None_videos_ids.append(row['Video ID'])\n",
        "\n",
        "print(\"None_videos_ids: \", None_videos_ids)\n",
        "print(\"Count: \", len(None_videos_ids))"
      ]
    },
    {
      "cell_type": "markdown",
      "metadata": {},
      "source": [
        "#### Non-English videos"
      ]
    },
    {
      "cell_type": "code",
      "execution_count": 10,
      "metadata": {},
      "outputs": [
        {
          "name": "stdout",
          "output_type": "stream",
          "text": [
            "nonenglish_videos_ids:  []\n",
            "Count:  0\n"
          ]
        }
      ],
      "source": [
        "# Detect if a transcript is not in English\n",
        "from langdetect import detect\n",
        "\n",
        "nonenglish_videos_ids = []\n",
        "for idx, row in df_openAI_transcipts.iterrows():\n",
        "    if row['Transcript'] is not None and detect(row['Transcript']) != 'en':\n",
        "        print(row['Transcript'])\n",
        "        nonenglish_videos_ids.append(row['Video ID'])\n",
        "\n",
        "print(\"nonenglish_videos_ids: \", nonenglish_videos_ids)\n",
        "print(\"Count: \", len(nonenglish_videos_ids))"
      ]
    },
    {
      "cell_type": "markdown",
      "metadata": {},
      "source": [
        "#### Long and very short videos"
      ]
    },
    {
      "cell_type": "code",
      "execution_count": 13,
      "metadata": {},
      "outputs": [
        {
          "name": "stdout",
          "output_type": "stream",
          "text": [
            "long_videos_ids with tokens more than 2000:  ['HnkVcClkw2w', 'sIP3nMZSqZk', '0KCyxyYAOzk', '3Lv8c6CrVU0', 'TW3IkEo-dzU', 'khoUWFDCRVM', 'YjCo7qIbvrQ', 'sx03pp7qa7Q', 'fym_v7iQFDw', 'O5pBkSxlvrw', 'eFz78nDtXLE', 'r1hxxFjLXkk', 'GSL_BCrBx48', 'WN4nYdRh23M', 'l6eOE0eApNo', 'Um24ajmB2is', 'x0V5ffsGxIg', 'SwVcIz-mtxA', 'ScC2ozRwio0', 'Aq85mzTab-g', 'jsD3HC617KY', 'tLsapCY9wOM', 'D7f7lmrTWUQ', 'wRMcxRHr7Go', 'bOODigTjQ20', 'MICPIzv8ESo', 'U2BFeod_JMk', 'DxLlR3MXmqM', '5O_JMpwN8kc', 'MWpyQee_OWg', 'HXlKVVoVnpU', 'y6b4GeYY9sg', '4bOgmhb79X0', 'MaVAsuwYacE', '0eVu6GbL32U', '6xakdapRfRQ', 'ZLtAUy6GhNs', '01Udfnd84eo', 'l639vX0v57A', 'TAY1sYZ-2U0', 'CPqqOJOr0gc', 'YUnZNU99bAA', 'O_T6_xHTph0', 'JMfmDAJo3qc', 'WPxeI6R8AXY', '-w8nRpnBAlE', 'Ir2wro32sOs', 'IrUI3ekMo_U', 'FNonSMghN40', 'T7WrigyfBd8', 'MUOIedSaIUw', 'O8q72r2x5aU', '5vSYlv5a0k0', 'yb344xfIyxI', 'DvDaN3CSAUQ', 'lRxCRVb2IC0', 'bXGFI5s0bOY', 'dvklGFi-WD4', 'kUjc3UUgKa0', 'mQe51ov0XmA', '3VdaGyHHrXw', 'mvanzhgh5RQ', '3A7qIM6qknw', 'rWbuftKLHu4', '43Y8lpnhWus', 'BA5xmc5FoEU', 'htKld8G-Lsc', 'fsLI12i5fvs', 'MpnNlgSbt9w', 'mQXmf_uo1yE', 'NnqAkM9r2a8', 'CC_j6Ki-T7w', 'HKhz6H0p6Ys', 'K-un7ypmjRA', '8sL4R-CnVnw', 'EXulKrl7OY0', '14i1WYPphCc', 'yYFwffGup_M', 'YcsdjBrXylE', 'Gi3-L6HU3hw', 'RVvB1PZJYpM', 'clbpGLcg_dM']\n",
            "Count:  82\n",
            "short_videos_ids with tokens less than 150:  []\n",
            "Count:  0\n"
          ]
        }
      ],
      "source": [
        "# getting IDs of long or very short videos\n",
        "from transformers import AutoTokenizer\n",
        "\n",
        "# Define the instruction and model\n",
        "instruction = 'Analyze the following transcript of a YouTube video according to this question: Is the video clear what sources of information were used to compile the publication (other than the author)? Return explicitly an integer score from 1 to 5, where 1 is no, 2 to 4 is partially, 5 is yes. Then explain your choice.'\n",
        "model_id = \"jarradh/llama2_70b_chat_uncensored\"\n",
        "tokenizer = AutoTokenizer.from_pretrained(model_id, legacy=False, trust_remote_code=True)\n",
        "\n",
        "# List to store video IDs of long transcripts\n",
        "long_videos_ids = []\n",
        "short_videos_ids= []\n",
        "\n",
        "# Maximum token limit for the transcript\n",
        "max_tokens_limit = 2000\n",
        "min_tokens_limit = 150\n",
        "# Iterate over each video transcript\n",
        "for index, row in df_openAI_transcipts.iterrows():\n",
        "    video_id = row['Video ID']\n",
        "    transcript = row['Transcript']\n",
        "    if transcript is not None:\n",
        "        # Construct the prompt with the instruction and transcript\n",
        "        prompt = f\"Instruction: {instruction}\\nTranscript: {transcript}\\nScore: \"\n",
        "\n",
        "        # Tokenize the prompt\n",
        "        tokens = tokenizer(prompt, return_length=True, return_tensors=\"pt\")\n",
        "\n",
        "        # Check if the token length exceeds the limit\n",
        "        if tokens['length'] > max_tokens_limit:\n",
        "            long_videos_ids.append(video_id)\n",
        "        if tokens['length'] < min_tokens_limit:\n",
        "            short_videos_ids.append(video_id)\n",
        "        \n",
        "\n",
        "print(f\"long_videos_ids with tokens more than {max_tokens_limit}: \", long_videos_ids)\n",
        "print(\"Count: \", len(long_videos_ids))\n",
        "print(f\"short_videos_ids with tokens less than {min_tokens_limit}: \", short_videos_ids)\n",
        "print(\"Count: \", len(short_videos_ids))\n"
      ]
    },
    {
      "cell_type": "markdown",
      "metadata": {},
      "source": [
        "#### Combined IDs to delete"
      ]
    },
    {
      "cell_type": "code",
      "execution_count": 14,
      "metadata": {},
      "outputs": [
        {
          "name": "stdout",
          "output_type": "stream",
          "text": [
            "combined_ids_to_delete:  {'CC_j6Ki-T7w', '-q4jZ-_j6Ag', '5vSYlv5a0k0', 'kUjc3UUgKa0', 'fym_v7iQFDw', '-Ct0iWSEkdc', 'Oiar5UM1TwE', '3Lv8c6CrVU0', '43Y8lpnhWus', 'KVqZXoOnaeU', 'ZLtAUy6GhNs', 'cdToNKruJV4', 'P7372tMFOJg', 'fsLI12i5fvs', 'mQXmf_uo1yE', 'r1hxxFjLXkk', 'vokDVp5uyu4', 'Aq85mzTab-g', 'i9vTDi3Z8HU', 'GSL_BCrBx48', 'Q6_0_CWcupM', 'Um24ajmB2is', '9Pd46JhQRCk', 'U7Ulc4_OI5Q', 'EmE7zlF5dWQ', '3VdaGyHHrXw', 'jsD3HC617KY', 'mQe51ov0XmA', '_X_XCBcY17A', 'TK2hKjvBVmA', 'USxPGAn1RLs', '73cM2Rh0RLk', 'yb344xfIyxI', '6xakdapRfRQ', 'O_T6_xHTph0', 'aZmbUyKEfr4', 'au_jIGyPSnE', 'dy9ZqVuP9V8', 'CPqqOJOr0gc', 'NnqAkM9r2a8', 'wGmh5LZWmq0', '3A7qIM6qknw', 'YUnZNU99bAA', 'ElHuyQefPeI', 'DxLlR3MXmqM', 'TAY1sYZ-2U0', 'vMVrHIPHi6M', 'MICPIzv8ESo', '8CgYrgVc0C4', 'cZJopUlzBeA', 'HnkVcClkw2w', 'bOODigTjQ20', '4bOgmhb79X0', 'wRXnzhbhpHU', 'c2tyic4JHBU', 'eFz78nDtXLE', '5GrGVfcDnXk', 'tLsapCY9wOM', 'RVvB1PZJYpM', 'Gi3-L6HU3hw', 'B5eUjXaBsr8', 'JrfHKVlpb1A', 'YcsdjBrXylE', 'Dp1n_n9OLWI', 'bodiJCJq5wk', 'eJFLwYZO7iE', 'x0V5ffsGxIg', 'bXGFI5s0bOY', 'ikSMIl1_TQM', 'Qp5pAixKKhs', 'ftcaXVSVpVY', 'mhSszRIz2Nk', 'W0pLY4fSwb4', 'UzpcPeoPnW0', '0XCsN7GvZEo', 'Jv1lG417LKg', 'sx03pp7qa7Q', 'MaVAsuwYacE', 'wRMcxRHr7Go', 'hQ0unKzDWiI', '0KCyxyYAOzk', 'T7WrigyfBd8', 'n1VTXWqLcbs', 'FgBhFVyTyXE', 'RE76s2oXFE0', 'l0LxEeEJDZU', 'MQhpmdfcJoY', '8HC0p9p1tLo', 'vqXQ_coJy4I', '8u-eqWxvCJA', '3AN_8XzN-KU', 'FNonSMghN40', 'kowVW2QOWr0', '0eVu6GbL32U', 'sIP3nMZSqZk', '14i1WYPphCc', 'HXlKVVoVnpU', '4HdZwm0zmn0', 'ohJZw4IWk_0', 'khoUWFDCRVM', 'l6eOE0eApNo', '9XMyL8YZ9jU', 'K-un7ypmjRA', '6VkBDpFpvI8', 'NEEjA13t5SM', 'Ir2wro32sOs', 'YjCo7qIbvrQ', 'aCtE-Va_6NI', 'KO6535-Qax8', 'IrUI3ekMo_U', 'wjWnV4broEk', 'clbpGLcg_dM', 'Fu2ugbb3wnQ', 'EXulKrl7OY0', 'SwVcIz-mtxA', 'xIdih25tfu0', 'XCMs2vyxbvo', 'MUOIedSaIUw', '6iNYB4bhlVw', 'fNouKvGCqIM', 'D7f7lmrTWUQ', 'OpsJghXtNHo', 'WxD_o4kYYII', 'rWbuftKLHu4', '01Udfnd84eo', 'O8q72r2x5aU', 'yYFwffGup_M', 'iE0_0Ponqok', 'aaRpk5MxRt4', 'iZOUAP7BiAg', 'rybJDxGT0a0', 'yAyZEOE4I2M', 'U2BFeod_JMk', 'MpnNlgSbt9w', 'zojoRNBXNsk', 'nLDs5tESOFc', 'LeKy4SipyMI', '8sL4R-CnVnw', 'MWpyQee_OWg', '9pBCNir7jfw', 'WPxeI6R8AXY', 'a1DwUL091eI', 'lRxCRVb2IC0', '2gYVWv9Zhxk', 'fOUX-iFzfo4', 'glBmSQRxaIg', 'N5KpDWVT4e0', '-w8nRpnBAlE', 'GtwtGeHH6bE', 'pCa8jOQJn-Y', 'WN4nYdRh23M', 'ACtM5trHH5Q', 'xAg2C9EY-Qs', 'TW3IkEo-dzU', 'DvDaN3CSAUQ', 'htKld8G-Lsc', 's8WTgH7Svjk', 'ggjTeJiqdn0', 'X35iTySMV7I', 'BA5xmc5FoEU', '5O_JMpwN8kc', 'mvanzhgh5RQ', 'l639vX0v57A', 'vWneXOZai68', '6Ee8BguoFmI', 'ScC2ozRwio0', 'JMfmDAJo3qc', 'HKhz6H0p6Ys', 'jGpkru3UU1k', 'raCnH6BPdKM', 'y6b4GeYY9sg', 'LAf_QFmTPkw', '4qy_aEy_Qdw', 'v9FMaozTgTM', 'wJmCzupMHjM', 'd2vW_CHWqo4', 'Hh5gcqZHhgg', 'Zw88nYSAT_M', 'QvG8oK4RJD0', 'O5pBkSxlvrw', 'En6rWhSfAY0', 'dvklGFi-WD4'}\n",
            "Count:  182\n"
          ]
        }
      ],
      "source": [
        "# IDs to delete\n",
        "combined_ids_to_delete = set(no_speech_ids + None_videos_ids + nonenglish_videos_ids + long_videos_ids + short_videos_ids )\n",
        "\n",
        "print(\"combined_ids_to_delete: \", combined_ids_to_delete)\n",
        "print(\"Count: \", len(combined_ids_to_delete))"
      ]
    },
    {
      "cell_type": "markdown",
      "metadata": {},
      "source": [
        "<h2>Removing Unpleasant Videos</h2>"
      ]
    },
    {
      "cell_type": "code",
      "execution_count": 32,
      "metadata": {},
      "outputs": [
        {
          "data": {
            "text/html": [
              "<div>\n",
              "<style scoped>\n",
              "    .dataframe tbody tr th:only-of-type {\n",
              "        vertical-align: middle;\n",
              "    }\n",
              "\n",
              "    .dataframe tbody tr th {\n",
              "        vertical-align: top;\n",
              "    }\n",
              "\n",
              "    .dataframe thead th {\n",
              "        text-align: right;\n",
              "    }\n",
              "</style>\n",
              "<table border=\"1\" class=\"dataframe\">\n",
              "  <thead>\n",
              "    <tr style=\"text-align: right;\">\n",
              "      <th></th>\n",
              "      <th>Index</th>\n",
              "      <th>URL</th>\n",
              "      <th>Video Title</th>\n",
              "      <th>Video ID</th>\n",
              "      <th>Date Published</th>\n",
              "      <th>Duration</th>\n",
              "      <th>Duration (sec)</th>\n",
              "      <th>Topic</th>\n",
              "      <th>Transcript</th>\n",
              "      <th>Description</th>\n",
              "    </tr>\n",
              "  </thead>\n",
              "  <tbody>\n",
              "    <tr>\n",
              "      <th>275</th>\n",
              "      <td>275</td>\n",
              "      <td>https://www.youtube.com/watch?v=ypjJ9yQ-5wI</td>\n",
              "      <td>Innovative Treatment for Pudendal Neuralgia by...</td>\n",
              "      <td>ypjJ9yQ-5wI</td>\n",
              "      <td>06-01-2020</td>\n",
              "      <td>1:37</td>\n",
              "      <td>97</td>\n",
              "      <td>Pudendal Nerve</td>\n",
              "      <td>My previous background as a pelvic surgeon has...</td>\n",
              "      <td>Dr. Todd Malan explains how he uses adipose-de...</td>\n",
              "    </tr>\n",
              "    <tr>\n",
              "      <th>276</th>\n",
              "      <td>276</td>\n",
              "      <td>https://www.youtube.com/watch?v=O3sS1HUFp4I</td>\n",
              "      <td>Acupuncture Used To Treat Pelvic Pain</td>\n",
              "      <td>O3sS1HUFp4I</td>\n",
              "      <td>15-07-2015</td>\n",
              "      <td>1:46</td>\n",
              "      <td>106</td>\n",
              "      <td>Pudendal Nerve</td>\n",
              "      <td>When it comes to using acupuncture to treat pa...</td>\n",
              "      <td>When it comes to using acupuncture to treat pa...</td>\n",
              "    </tr>\n",
              "  </tbody>\n",
              "</table>\n",
              "</div>"
            ],
            "text/plain": [
              "     Index                                          URL  \\\n",
              "275    275  https://www.youtube.com/watch?v=ypjJ9yQ-5wI   \n",
              "276    276  https://www.youtube.com/watch?v=O3sS1HUFp4I   \n",
              "\n",
              "                                           Video Title     Video ID  \\\n",
              "275  Innovative Treatment for Pudendal Neuralgia by...  ypjJ9yQ-5wI   \n",
              "276              Acupuncture Used To Treat Pelvic Pain  O3sS1HUFp4I   \n",
              "\n",
              "    Date Published Duration  Duration (sec)           Topic  \\\n",
              "275     06-01-2020     1:37              97  Pudendal Nerve   \n",
              "276     15-07-2015     1:46             106  Pudendal Nerve   \n",
              "\n",
              "                                            Transcript  \\\n",
              "275  My previous background as a pelvic surgeon has...   \n",
              "276  When it comes to using acupuncture to treat pa...   \n",
              "\n",
              "                                           Description  \n",
              "275  Dr. Todd Malan explains how he uses adipose-de...  \n",
              "276  When it comes to using acupuncture to treat pa...  "
            ]
          },
          "execution_count": 32,
          "metadata": {},
          "output_type": "execute_result"
        }
      ],
      "source": [
        "df_openAI_updated = df_openAI_transcipts[~df_openAI_transcipts['Video ID'].isin(combined_ids_to_delete)]\n",
        "df_openAI_updated.reset_index(drop=True, inplace=True)\n",
        "df_openAI_updated.index += 1\n",
        "df_openAI_updated.loc[:, 'Number'] = df_openAI_updated.index\n",
        "\n",
        "df_openAI_updated.tail(2)"
      ]
    },
    {
      "cell_type": "code",
      "execution_count": null,
      "metadata": {},
      "outputs": [],
      "source": [
        "df_openAI_updated.to_csv(\"videos_info_with_OpenAI_transcripts_filtered.csv\", index=False)"
      ]
    }
  ],
  "metadata": {
    "kernelspec": {
      "display_name": "Python 3",
      "language": "python",
      "name": "python3"
    },
    "language_info": {
      "codemirror_mode": {
        "name": "ipython",
        "version": 3
      },
      "file_extension": ".py",
      "mimetype": "text/x-python",
      "name": "python",
      "nbconvert_exporter": "python",
      "pygments_lexer": "ipython3",
      "version": "3.12.2"
    }
  },
  "nbformat": 4,
  "nbformat_minor": 2
}
